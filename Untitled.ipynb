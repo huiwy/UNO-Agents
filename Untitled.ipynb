{
 "cells": [
  {
   "cell_type": "code",
   "execution_count": 1,
   "metadata": {},
   "outputs": [],
   "source": [
    "import agents\n",
    "import game\n",
    "%load_ext autoreload\n",
    "%autoreload 2"
   ]
  },
  {
   "cell_type": "code",
   "execution_count": 6,
   "metadata": {},
   "outputs": [
    {
     "name": "stdout",
     "output_type": "stream",
     "text": [
      "Owned cards: \n",
      "\tR1:1, \tR5:1, \tY4:1, \tY5:1, \tGskip:1, \tB8:1, \t+4:1, \n",
      "Valid actions: \n",
      " \tR1, R5, Y4, Y5, Gskip, B8, +4, Draw\n"
     ]
    },
    {
     "name": "stdin",
     "output_type": "stream",
     "text": [
      "the index of card : 0\n",
      "color, if necessary : 0\n"
     ]
    },
    {
     "name": "stdout",
     "output_type": "stream",
     "text": [
      "Owned cards: \n",
      "\tR3:1, \tR8:1, \tR9:1, \tG6:1, \tB2:1, \t+4:2, \n",
      "Valid actions: \n",
      " \tR3, R8, R9, +4, Draw\n",
      "previous card : R1\n"
     ]
    },
    {
     "name": "stdin",
     "output_type": "stream",
     "text": [
      "the index of card : 0\n",
      "color, if necessary : 0\n"
     ]
    },
    {
     "name": "stdout",
     "output_type": "stream",
     "text": [
      "Owned cards: \n",
      "\tR5:1, \tY4:1, \tY5:1, \tGskip:1, \tB8:1, \t+4:1, \n",
      "Valid actions: \n",
      " \tR5, +4, Draw\n",
      "previous card : R3\n"
     ]
    },
    {
     "name": "stdin",
     "output_type": "stream",
     "text": [
      "the index of card : 0\n",
      "color, if necessary : 0\n"
     ]
    },
    {
     "name": "stdout",
     "output_type": "stream",
     "text": [
      "Owned cards: \n",
      "\tR8:1, \tR9:1, \tG6:1, \tB2:1, \t+4:2, \n",
      "Valid actions: \n",
      " \tR8, R9, +4, Draw\n",
      "previous card : R5\n"
     ]
    },
    {
     "name": "stdin",
     "output_type": "stream",
     "text": [
      "the index of card : 0\n",
      "color, if necessary : 0\n"
     ]
    },
    {
     "name": "stdout",
     "output_type": "stream",
     "text": [
      "Owned cards: \n",
      "\tY4:1, \tY5:1, \tGskip:1, \tB8:1, \t+4:1, \n",
      "Valid actions: \n",
      " \tB8, +4, Draw\n",
      "previous card : R8\n"
     ]
    },
    {
     "name": "stdin",
     "output_type": "stream",
     "text": [
      "the index of card : 0\n",
      "color, if necessary : 0\n"
     ]
    },
    {
     "name": "stdout",
     "output_type": "stream",
     "text": [
      "Owned cards: \n",
      "\tR9:1, \tG6:1, \tB2:1, \t+4:2, \n",
      "Valid actions: \n",
      " \tB2, +4, Draw\n",
      "previous card : B8\n"
     ]
    },
    {
     "name": "stdin",
     "output_type": "stream",
     "text": [
      "the index of card : 0\n",
      "color, if necessary : 0\n"
     ]
    },
    {
     "name": "stdout",
     "output_type": "stream",
     "text": [
      "Owned cards: \n",
      "\tY4:1, \tY5:1, \tGskip:1, \t+4:1, \n",
      "Valid actions: \n",
      " \t+4, Draw\n",
      "previous card : B2\n"
     ]
    },
    {
     "name": "stdin",
     "output_type": "stream",
     "text": [
      "the index of card : 0\n",
      "color, if necessary : 0\n"
     ]
    },
    {
     "name": "stdout",
     "output_type": "stream",
     "text": [
      "Owned cards: \n",
      "\tR4:1, \tR9:1, \tY5:1, \tG6:2, \twild:1, \t+4:2, \n",
      "Valid actions: \n",
      " \tR4, R9, wild, +4, Draw\n",
      "previous color : R\n"
     ]
    },
    {
     "name": "stdin",
     "output_type": "stream",
     "text": [
      "the index of card : 2\n",
      "color, if necessary : 2\n"
     ]
    },
    {
     "name": "stdout",
     "output_type": "stream",
     "text": [
      "Owned cards: \n",
      "\tY4:1, \tY5:1, \tGskip:1, \n",
      "Valid actions: \n",
      " \tGskip, Draw\n",
      "previous color : G\n"
     ]
    },
    {
     "name": "stdin",
     "output_type": "stream",
     "text": [
      "the index of card : 0\n",
      "color, if necessary : 0\n"
     ]
    },
    {
     "name": "stdout",
     "output_type": "stream",
     "text": [
      "Owned cards: \n",
      "\tY4:1, \tY5:1, \n",
      "Valid actions: \n",
      " \tDraw\n",
      "previous card : Gskip\n"
     ]
    },
    {
     "name": "stdin",
     "output_type": "stream",
     "text": [
      "the index of card : 0\n",
      "color, if necessary : 0\n"
     ]
    },
    {
     "name": "stdout",
     "output_type": "stream",
     "text": [
      "Owned cards: \n",
      "\tY4:1, \tY5:1, \tG5:1, \n",
      "Valid actions: \n",
      " \tG5, Draw\n",
      "previous card : Gskip\n"
     ]
    },
    {
     "name": "stdin",
     "output_type": "stream",
     "text": [
      "the index of card : 0\n",
      "color, if necessary : 0\n"
     ]
    },
    {
     "name": "stdout",
     "output_type": "stream",
     "text": [
      "Owned cards: \n",
      "\tY4:1, \tY5:1, \n",
      "Valid actions: \n",
      " \tY5, Draw\n",
      "previous card : G5\n"
     ]
    },
    {
     "name": "stdin",
     "output_type": "stream",
     "text": [
      "the index of card : 0\n",
      "color, if necessary : 0\n"
     ]
    },
    {
     "name": "stdout",
     "output_type": "stream",
     "text": [
      "Owned cards: \n",
      "\tY4:1, \n",
      "Valid actions: \n",
      " \tY4, Draw\n",
      "previous card : Y5\n"
     ]
    },
    {
     "name": "stdin",
     "output_type": "stream",
     "text": [
      "the index of card : 0\n",
      "color, if necessary : 0\n"
     ]
    },
    {
     "data": {
      "text/plain": [
       "0"
      ]
     },
     "execution_count": 6,
     "metadata": {},
     "output_type": "execute_result"
    }
   ],
   "source": [
    "game.play([agents.HumanAgent(), agents.HumanAgent()])"
   ]
  },
  {
   "cell_type": "code",
   "execution_count": null,
   "metadata": {},
   "outputs": [],
   "source": [
    "g = game.UNOGame(agents, \"infinite deck\")"
   ]
  },
  {
   "cell_type": "code",
   "execution_count": null,
   "metadata": {},
   "outputs": [],
   "source": [
    "a = g.agents"
   ]
  },
  {
   "cell_type": "code",
   "execution_count": null,
   "metadata": {},
   "outputs": [],
   "source": [
    "game.CARD2INT"
   ]
  },
  {
   "cell_type": "code",
   "execution_count": null,
   "metadata": {},
   "outputs": [],
   "source": [
    "len(game.INT2CARD)"
   ]
  },
  {
   "cell_type": "code",
   "execution_count": null,
   "metadata": {},
   "outputs": [],
   "source": [
    "a = input()"
   ]
  },
  {
   "cell_type": "code",
   "execution_count": null,
   "metadata": {},
   "outputs": [],
   "source": []
  }
 ],
 "metadata": {
  "kernelspec": {
   "display_name": "cs181",
   "language": "python",
   "name": "cs181"
  },
  "language_info": {
   "codemirror_mode": {
    "name": "ipython",
    "version": 3
   },
   "file_extension": ".py",
   "mimetype": "text/x-python",
   "name": "python",
   "nbconvert_exporter": "python",
   "pygments_lexer": "ipython3",
   "version": "3.8.3"
  }
 },
 "nbformat": 4,
 "nbformat_minor": 4
}
